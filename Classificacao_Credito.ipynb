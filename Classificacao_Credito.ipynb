{
 "cells": [
  {
   "cell_type": "markdown",
   "source": [
    "# Análise de Dados de Crédito\n",
    "Para a análise, iniciaremos com uma Descritiva das variáveis de interesse presentes no Dataset. Após isso, elaboraremos modelos de previsão de bons e maus pagadores, a fim de compará-los e estudar a acurácia de cada um deles na amostra disponível. Os dados estão disponíveis no Kaggle (<a href=\"https://www.kaggle.com/rikdifos/credit-card-approval-prediction\">acesse aqui</a>)."
   ],
   "metadata": {
    "collapsed": false
   }
  },
  {
   "cell_type": "code",
   "execution_count": 1,
   "outputs": [],
   "source": [
    "import pandas as pd"
   ],
   "metadata": {
    "collapsed": false
   }
  },
  {
   "cell_type": "code",
   "execution_count": 2,
   "outputs": [
    {
     "data": {
      "text/plain": "        ID CODE_GENDER FLAG_OWN_CAR FLAG_OWN_REALTY  CNT_CHILDREN  \\\n0  5008804           M            Y               Y             0   \n1  5008805           M            Y               Y             0   \n2  5008806           M            Y               Y             0   \n3  5008808           F            N               Y             0   \n4  5008809           F            N               Y             0   \n\n   AMT_INCOME_TOTAL      NAME_INCOME_TYPE            NAME_EDUCATION_TYPE  \\\n0          427500.0               Working               Higher education   \n1          427500.0               Working               Higher education   \n2          112500.0               Working  Secondary / secondary special   \n3          270000.0  Commercial associate  Secondary / secondary special   \n4          270000.0  Commercial associate  Secondary / secondary special   \n\n     NAME_FAMILY_STATUS  NAME_HOUSING_TYPE  DAYS_BIRTH  DAYS_EMPLOYED  \\\n0        Civil marriage   Rented apartment      -12005          -4542   \n1        Civil marriage   Rented apartment      -12005          -4542   \n2               Married  House / apartment      -21474          -1134   \n3  Single / not married  House / apartment      -19110          -3051   \n4  Single / not married  House / apartment      -19110          -3051   \n\n   FLAG_MOBIL  FLAG_WORK_PHONE  FLAG_PHONE  FLAG_EMAIL OCCUPATION_TYPE  \\\n0           1                1           0           0             NaN   \n1           1                1           0           0             NaN   \n2           1                0           0           0  Security staff   \n3           1                0           1           1     Sales staff   \n4           1                0           1           1     Sales staff   \n\n   CNT_FAM_MEMBERS  \n0              2.0  \n1              2.0  \n2              2.0  \n3              1.0  \n4              1.0  ",
      "text/html": "<div>\n<style scoped>\n    .dataframe tbody tr th:only-of-type {\n        vertical-align: middle;\n    }\n\n    .dataframe tbody tr th {\n        vertical-align: top;\n    }\n\n    .dataframe thead th {\n        text-align: right;\n    }\n</style>\n<table border=\"1\" class=\"dataframe\">\n  <thead>\n    <tr style=\"text-align: right;\">\n      <th></th>\n      <th>ID</th>\n      <th>CODE_GENDER</th>\n      <th>FLAG_OWN_CAR</th>\n      <th>FLAG_OWN_REALTY</th>\n      <th>CNT_CHILDREN</th>\n      <th>AMT_INCOME_TOTAL</th>\n      <th>NAME_INCOME_TYPE</th>\n      <th>NAME_EDUCATION_TYPE</th>\n      <th>NAME_FAMILY_STATUS</th>\n      <th>NAME_HOUSING_TYPE</th>\n      <th>DAYS_BIRTH</th>\n      <th>DAYS_EMPLOYED</th>\n      <th>FLAG_MOBIL</th>\n      <th>FLAG_WORK_PHONE</th>\n      <th>FLAG_PHONE</th>\n      <th>FLAG_EMAIL</th>\n      <th>OCCUPATION_TYPE</th>\n      <th>CNT_FAM_MEMBERS</th>\n    </tr>\n  </thead>\n  <tbody>\n    <tr>\n      <th>0</th>\n      <td>5008804</td>\n      <td>M</td>\n      <td>Y</td>\n      <td>Y</td>\n      <td>0</td>\n      <td>427500.0</td>\n      <td>Working</td>\n      <td>Higher education</td>\n      <td>Civil marriage</td>\n      <td>Rented apartment</td>\n      <td>-12005</td>\n      <td>-4542</td>\n      <td>1</td>\n      <td>1</td>\n      <td>0</td>\n      <td>0</td>\n      <td>NaN</td>\n      <td>2.0</td>\n    </tr>\n    <tr>\n      <th>1</th>\n      <td>5008805</td>\n      <td>M</td>\n      <td>Y</td>\n      <td>Y</td>\n      <td>0</td>\n      <td>427500.0</td>\n      <td>Working</td>\n      <td>Higher education</td>\n      <td>Civil marriage</td>\n      <td>Rented apartment</td>\n      <td>-12005</td>\n      <td>-4542</td>\n      <td>1</td>\n      <td>1</td>\n      <td>0</td>\n      <td>0</td>\n      <td>NaN</td>\n      <td>2.0</td>\n    </tr>\n    <tr>\n      <th>2</th>\n      <td>5008806</td>\n      <td>M</td>\n      <td>Y</td>\n      <td>Y</td>\n      <td>0</td>\n      <td>112500.0</td>\n      <td>Working</td>\n      <td>Secondary / secondary special</td>\n      <td>Married</td>\n      <td>House / apartment</td>\n      <td>-21474</td>\n      <td>-1134</td>\n      <td>1</td>\n      <td>0</td>\n      <td>0</td>\n      <td>0</td>\n      <td>Security staff</td>\n      <td>2.0</td>\n    </tr>\n    <tr>\n      <th>3</th>\n      <td>5008808</td>\n      <td>F</td>\n      <td>N</td>\n      <td>Y</td>\n      <td>0</td>\n      <td>270000.0</td>\n      <td>Commercial associate</td>\n      <td>Secondary / secondary special</td>\n      <td>Single / not married</td>\n      <td>House / apartment</td>\n      <td>-19110</td>\n      <td>-3051</td>\n      <td>1</td>\n      <td>0</td>\n      <td>1</td>\n      <td>1</td>\n      <td>Sales staff</td>\n      <td>1.0</td>\n    </tr>\n    <tr>\n      <th>4</th>\n      <td>5008809</td>\n      <td>F</td>\n      <td>N</td>\n      <td>Y</td>\n      <td>0</td>\n      <td>270000.0</td>\n      <td>Commercial associate</td>\n      <td>Secondary / secondary special</td>\n      <td>Single / not married</td>\n      <td>House / apartment</td>\n      <td>-19110</td>\n      <td>-3051</td>\n      <td>1</td>\n      <td>0</td>\n      <td>1</td>\n      <td>1</td>\n      <td>Sales staff</td>\n      <td>1.0</td>\n    </tr>\n  </tbody>\n</table>\n</div>"
     },
     "execution_count": 2,
     "metadata": {},
     "output_type": "execute_result"
    }
   ],
   "source": [
    "app_record = pd.read_csv('Data/application_record.csv')\n",
    "app_record.head()"
   ],
   "metadata": {
    "collapsed": false
   }
  },
  {
   "cell_type": "code",
   "execution_count": 3,
   "outputs": [
    {
     "data": {
      "text/plain": "        ID  MONTHS_BALANCE STATUS\n0  5001711               0      X\n1  5001711              -1      0\n2  5001711              -2      0\n3  5001711              -3      0\n4  5001712               0      C",
      "text/html": "<div>\n<style scoped>\n    .dataframe tbody tr th:only-of-type {\n        vertical-align: middle;\n    }\n\n    .dataframe tbody tr th {\n        vertical-align: top;\n    }\n\n    .dataframe thead th {\n        text-align: right;\n    }\n</style>\n<table border=\"1\" class=\"dataframe\">\n  <thead>\n    <tr style=\"text-align: right;\">\n      <th></th>\n      <th>ID</th>\n      <th>MONTHS_BALANCE</th>\n      <th>STATUS</th>\n    </tr>\n  </thead>\n  <tbody>\n    <tr>\n      <th>0</th>\n      <td>5001711</td>\n      <td>0</td>\n      <td>X</td>\n    </tr>\n    <tr>\n      <th>1</th>\n      <td>5001711</td>\n      <td>-1</td>\n      <td>0</td>\n    </tr>\n    <tr>\n      <th>2</th>\n      <td>5001711</td>\n      <td>-2</td>\n      <td>0</td>\n    </tr>\n    <tr>\n      <th>3</th>\n      <td>5001711</td>\n      <td>-3</td>\n      <td>0</td>\n    </tr>\n    <tr>\n      <th>4</th>\n      <td>5001712</td>\n      <td>0</td>\n      <td>C</td>\n    </tr>\n  </tbody>\n</table>\n</div>"
     },
     "execution_count": 3,
     "metadata": {},
     "output_type": "execute_result"
    }
   ],
   "source": [
    "cred_record = pd.read_csv('Data/credit_record.csv')\n",
    "cred_record.head()"
   ],
   "metadata": {
    "collapsed": false
   }
  },
  {
   "cell_type": "code",
   "execution_count": 4,
   "outputs": [],
   "source": [
    "# Categorização e Merge dos Dados: dados do Dataframe APP_RECORD não possuem a categoria de serem bons ou maus pagadores.\n",
    "def categorize(row):\n",
    "    if row['STATUS'] == 'C' or row['STATUS'] == 'X':\n",
    "        return False\n",
    "    else:\n",
    "        return True\n",
    "\n",
    "df_cred = pd.merge(app_record, cred_record, on=\"ID\")\n",
    "df_cred['BAD_PAYER'] = df_cred.apply(lambda row: categorize(row), axis=1)\n",
    "df_cred.drop('MONTHS_BALANCE', axis=1, inplace=True)\n",
    "df_cred_ = df_cred.groupby(df_cred['ID']).aggregate('first')"
   ],
   "metadata": {
    "collapsed": false
   }
  },
  {
   "cell_type": "code",
   "execution_count": 5,
   "outputs": [
    {
     "name": "stdout",
     "output_type": "stream",
     "text": [
      "(36457, 19)\n",
      "False    27619\n",
      "True      8838\n",
      "Name: BAD_PAYER, dtype: int64\n"
     ]
    },
    {
     "data": {
      "text/plain": "        CODE_GENDER FLAG_OWN_CAR FLAG_OWN_REALTY  CNT_CHILDREN  \\\nID                                                               \n5008804           M            Y               Y             0   \n5008805           M            Y               Y             0   \n5008806           M            Y               Y             0   \n5008808           F            N               Y             0   \n5008809           F            N               Y             0   \n5008810           F            N               Y             0   \n5008811           F            N               Y             0   \n5008812           F            N               Y             0   \n5008813           F            N               Y             0   \n5008814           F            N               Y             0   \n\n         AMT_INCOME_TOTAL      NAME_INCOME_TYPE  \\\nID                                                \n5008804          427500.0               Working   \n5008805          427500.0               Working   \n5008806          112500.0               Working   \n5008808          270000.0  Commercial associate   \n5008809          270000.0  Commercial associate   \n5008810          270000.0  Commercial associate   \n5008811          270000.0  Commercial associate   \n5008812          283500.0             Pensioner   \n5008813          283500.0             Pensioner   \n5008814          283500.0             Pensioner   \n\n                   NAME_EDUCATION_TYPE    NAME_FAMILY_STATUS  \\\nID                                                             \n5008804               Higher education        Civil marriage   \n5008805               Higher education        Civil marriage   \n5008806  Secondary / secondary special               Married   \n5008808  Secondary / secondary special  Single / not married   \n5008809  Secondary / secondary special  Single / not married   \n5008810  Secondary / secondary special  Single / not married   \n5008811  Secondary / secondary special  Single / not married   \n5008812               Higher education             Separated   \n5008813               Higher education             Separated   \n5008814               Higher education             Separated   \n\n         NAME_HOUSING_TYPE  DAYS_BIRTH  DAYS_EMPLOYED  FLAG_MOBIL  \\\nID                                                                  \n5008804   Rented apartment      -12005          -4542           1   \n5008805   Rented apartment      -12005          -4542           1   \n5008806  House / apartment      -21474          -1134           1   \n5008808  House / apartment      -19110          -3051           1   \n5008809  House / apartment      -19110          -3051           1   \n5008810  House / apartment      -19110          -3051           1   \n5008811  House / apartment      -19110          -3051           1   \n5008812  House / apartment      -22464         365243           1   \n5008813  House / apartment      -22464         365243           1   \n5008814  House / apartment      -22464         365243           1   \n\n         FLAG_WORK_PHONE  FLAG_PHONE  FLAG_EMAIL OCCUPATION_TYPE  \\\nID                                                                 \n5008804                1           0           0            None   \n5008805                1           0           0            None   \n5008806                0           0           0  Security staff   \n5008808                0           1           1     Sales staff   \n5008809                0           1           1     Sales staff   \n5008810                0           1           1     Sales staff   \n5008811                0           1           1     Sales staff   \n5008812                0           0           0            None   \n5008813                0           0           0            None   \n5008814                0           0           0            None   \n\n         CNT_FAM_MEMBERS STATUS  BAD_PAYER  \nID                                          \n5008804              2.0      C      False  \n5008805              2.0      C      False  \n5008806              2.0      C      False  \n5008808              1.0      0       True  \n5008809              1.0      X      False  \n5008810              1.0      C      False  \n5008811              1.0      C      False  \n5008812              1.0      0       True  \n5008813              1.0      0       True  \n5008814              1.0      0       True  ",
      "text/html": "<div>\n<style scoped>\n    .dataframe tbody tr th:only-of-type {\n        vertical-align: middle;\n    }\n\n    .dataframe tbody tr th {\n        vertical-align: top;\n    }\n\n    .dataframe thead th {\n        text-align: right;\n    }\n</style>\n<table border=\"1\" class=\"dataframe\">\n  <thead>\n    <tr style=\"text-align: right;\">\n      <th></th>\n      <th>CODE_GENDER</th>\n      <th>FLAG_OWN_CAR</th>\n      <th>FLAG_OWN_REALTY</th>\n      <th>CNT_CHILDREN</th>\n      <th>AMT_INCOME_TOTAL</th>\n      <th>NAME_INCOME_TYPE</th>\n      <th>NAME_EDUCATION_TYPE</th>\n      <th>NAME_FAMILY_STATUS</th>\n      <th>NAME_HOUSING_TYPE</th>\n      <th>DAYS_BIRTH</th>\n      <th>DAYS_EMPLOYED</th>\n      <th>FLAG_MOBIL</th>\n      <th>FLAG_WORK_PHONE</th>\n      <th>FLAG_PHONE</th>\n      <th>FLAG_EMAIL</th>\n      <th>OCCUPATION_TYPE</th>\n      <th>CNT_FAM_MEMBERS</th>\n      <th>STATUS</th>\n      <th>BAD_PAYER</th>\n    </tr>\n    <tr>\n      <th>ID</th>\n      <th></th>\n      <th></th>\n      <th></th>\n      <th></th>\n      <th></th>\n      <th></th>\n      <th></th>\n      <th></th>\n      <th></th>\n      <th></th>\n      <th></th>\n      <th></th>\n      <th></th>\n      <th></th>\n      <th></th>\n      <th></th>\n      <th></th>\n      <th></th>\n      <th></th>\n    </tr>\n  </thead>\n  <tbody>\n    <tr>\n      <th>5008804</th>\n      <td>M</td>\n      <td>Y</td>\n      <td>Y</td>\n      <td>0</td>\n      <td>427500.0</td>\n      <td>Working</td>\n      <td>Higher education</td>\n      <td>Civil marriage</td>\n      <td>Rented apartment</td>\n      <td>-12005</td>\n      <td>-4542</td>\n      <td>1</td>\n      <td>1</td>\n      <td>0</td>\n      <td>0</td>\n      <td>None</td>\n      <td>2.0</td>\n      <td>C</td>\n      <td>False</td>\n    </tr>\n    <tr>\n      <th>5008805</th>\n      <td>M</td>\n      <td>Y</td>\n      <td>Y</td>\n      <td>0</td>\n      <td>427500.0</td>\n      <td>Working</td>\n      <td>Higher education</td>\n      <td>Civil marriage</td>\n      <td>Rented apartment</td>\n      <td>-12005</td>\n      <td>-4542</td>\n      <td>1</td>\n      <td>1</td>\n      <td>0</td>\n      <td>0</td>\n      <td>None</td>\n      <td>2.0</td>\n      <td>C</td>\n      <td>False</td>\n    </tr>\n    <tr>\n      <th>5008806</th>\n      <td>M</td>\n      <td>Y</td>\n      <td>Y</td>\n      <td>0</td>\n      <td>112500.0</td>\n      <td>Working</td>\n      <td>Secondary / secondary special</td>\n      <td>Married</td>\n      <td>House / apartment</td>\n      <td>-21474</td>\n      <td>-1134</td>\n      <td>1</td>\n      <td>0</td>\n      <td>0</td>\n      <td>0</td>\n      <td>Security staff</td>\n      <td>2.0</td>\n      <td>C</td>\n      <td>False</td>\n    </tr>\n    <tr>\n      <th>5008808</th>\n      <td>F</td>\n      <td>N</td>\n      <td>Y</td>\n      <td>0</td>\n      <td>270000.0</td>\n      <td>Commercial associate</td>\n      <td>Secondary / secondary special</td>\n      <td>Single / not married</td>\n      <td>House / apartment</td>\n      <td>-19110</td>\n      <td>-3051</td>\n      <td>1</td>\n      <td>0</td>\n      <td>1</td>\n      <td>1</td>\n      <td>Sales staff</td>\n      <td>1.0</td>\n      <td>0</td>\n      <td>True</td>\n    </tr>\n    <tr>\n      <th>5008809</th>\n      <td>F</td>\n      <td>N</td>\n      <td>Y</td>\n      <td>0</td>\n      <td>270000.0</td>\n      <td>Commercial associate</td>\n      <td>Secondary / secondary special</td>\n      <td>Single / not married</td>\n      <td>House / apartment</td>\n      <td>-19110</td>\n      <td>-3051</td>\n      <td>1</td>\n      <td>0</td>\n      <td>1</td>\n      <td>1</td>\n      <td>Sales staff</td>\n      <td>1.0</td>\n      <td>X</td>\n      <td>False</td>\n    </tr>\n    <tr>\n      <th>5008810</th>\n      <td>F</td>\n      <td>N</td>\n      <td>Y</td>\n      <td>0</td>\n      <td>270000.0</td>\n      <td>Commercial associate</td>\n      <td>Secondary / secondary special</td>\n      <td>Single / not married</td>\n      <td>House / apartment</td>\n      <td>-19110</td>\n      <td>-3051</td>\n      <td>1</td>\n      <td>0</td>\n      <td>1</td>\n      <td>1</td>\n      <td>Sales staff</td>\n      <td>1.0</td>\n      <td>C</td>\n      <td>False</td>\n    </tr>\n    <tr>\n      <th>5008811</th>\n      <td>F</td>\n      <td>N</td>\n      <td>Y</td>\n      <td>0</td>\n      <td>270000.0</td>\n      <td>Commercial associate</td>\n      <td>Secondary / secondary special</td>\n      <td>Single / not married</td>\n      <td>House / apartment</td>\n      <td>-19110</td>\n      <td>-3051</td>\n      <td>1</td>\n      <td>0</td>\n      <td>1</td>\n      <td>1</td>\n      <td>Sales staff</td>\n      <td>1.0</td>\n      <td>C</td>\n      <td>False</td>\n    </tr>\n    <tr>\n      <th>5008812</th>\n      <td>F</td>\n      <td>N</td>\n      <td>Y</td>\n      <td>0</td>\n      <td>283500.0</td>\n      <td>Pensioner</td>\n      <td>Higher education</td>\n      <td>Separated</td>\n      <td>House / apartment</td>\n      <td>-22464</td>\n      <td>365243</td>\n      <td>1</td>\n      <td>0</td>\n      <td>0</td>\n      <td>0</td>\n      <td>None</td>\n      <td>1.0</td>\n      <td>0</td>\n      <td>True</td>\n    </tr>\n    <tr>\n      <th>5008813</th>\n      <td>F</td>\n      <td>N</td>\n      <td>Y</td>\n      <td>0</td>\n      <td>283500.0</td>\n      <td>Pensioner</td>\n      <td>Higher education</td>\n      <td>Separated</td>\n      <td>House / apartment</td>\n      <td>-22464</td>\n      <td>365243</td>\n      <td>1</td>\n      <td>0</td>\n      <td>0</td>\n      <td>0</td>\n      <td>None</td>\n      <td>1.0</td>\n      <td>0</td>\n      <td>True</td>\n    </tr>\n    <tr>\n      <th>5008814</th>\n      <td>F</td>\n      <td>N</td>\n      <td>Y</td>\n      <td>0</td>\n      <td>283500.0</td>\n      <td>Pensioner</td>\n      <td>Higher education</td>\n      <td>Separated</td>\n      <td>House / apartment</td>\n      <td>-22464</td>\n      <td>365243</td>\n      <td>1</td>\n      <td>0</td>\n      <td>0</td>\n      <td>0</td>\n      <td>None</td>\n      <td>1.0</td>\n      <td>0</td>\n      <td>True</td>\n    </tr>\n  </tbody>\n</table>\n</div>"
     },
     "execution_count": 5,
     "metadata": {},
     "output_type": "execute_result"
    }
   ],
   "source": [
    "print(df_cred_.shape)\n",
    "print(df_cred_['BAD_PAYER'].value_counts())\n",
    "df_cred_.head(10)"
   ],
   "metadata": {
    "collapsed": false
   }
  },
  {
   "cell_type": "code",
   "execution_count": 9,
   "outputs": [
    {
     "ename": "ModuleNotFoundError",
     "evalue": "No module named 'sklearn'",
     "output_type": "error",
     "traceback": [
      "\u001B[0;31m---------------------------------------------------------------------------\u001B[0m",
      "\u001B[0;31mModuleNotFoundError\u001B[0m                       Traceback (most recent call last)",
      "Input \u001B[0;32mIn [9]\u001B[0m, in \u001B[0;36m<cell line: 1>\u001B[0;34m()\u001B[0m\n\u001B[0;32m----> 1\u001B[0m \u001B[38;5;28;01mfrom\u001B[39;00m \u001B[38;5;21;01msklearn\u001B[39;00m\u001B[38;5;21;01m.\u001B[39;00m\u001B[38;5;21;01mmodel_selection\u001B[39;00m \u001B[38;5;28;01mimport\u001B[39;00m train_test_split\n\u001B[1;32m      3\u001B[0m x \u001B[38;5;241m=\u001B[39m df_cred_\u001B[38;5;241m.\u001B[39mdrop(\u001B[38;5;124m\"\u001B[39m\u001B[38;5;124mBAD_PAYER\u001B[39m\u001B[38;5;124m\"\u001B[39m, axis\u001B[38;5;241m=\u001B[39m\u001B[38;5;241m1\u001B[39m)\n\u001B[1;32m      4\u001B[0m y \u001B[38;5;241m=\u001B[39m df_cred_[\u001B[38;5;124m\"\u001B[39m\u001B[38;5;124mBAD_PAYER\u001B[39m\u001B[38;5;124m\"\u001B[39m]\n",
      "\u001B[0;31mModuleNotFoundError\u001B[0m: No module named 'sklearn'"
     ]
    }
   ],
   "source": [
    "from sklearn.model_selection import train_test_split\n",
    "\n",
    "x = df_cred_.drop(\"BAD_PAYER\", axis=1)\n",
    "y = df_cred_[\"BAD_PAYER\"]\n",
    "\n",
    "xtrain, xtest, ytrain, ytest = train_test_split(x, y)"
   ],
   "metadata": {
    "collapsed": false
   }
  },
  {
   "cell_type": "code",
   "execution_count": 10,
   "outputs": [
    {
     "ename": "ModuleNotFoundError",
     "evalue": "No module named 'sklearn'",
     "output_type": "error",
     "traceback": [
      "\u001B[0;31m---------------------------------------------------------------------------\u001B[0m",
      "\u001B[0;31mModuleNotFoundError\u001B[0m                       Traceback (most recent call last)",
      "Input \u001B[0;32mIn [10]\u001B[0m, in \u001B[0;36m<cell line: 1>\u001B[0;34m()\u001B[0m\n\u001B[0;32m----> 1\u001B[0m \u001B[38;5;28;01mfrom\u001B[39;00m \u001B[38;5;21;01msklearn\u001B[39;00m\u001B[38;5;21;01m.\u001B[39;00m\u001B[38;5;21;01mneighbors\u001B[39;00m \u001B[38;5;28;01mimport\u001B[39;00m KNeighborsClassifier\n\u001B[1;32m      2\u001B[0m \u001B[38;5;28;01mfrom\u001B[39;00m \u001B[38;5;21;01msklearn\u001B[39;00m\u001B[38;5;21;01m.\u001B[39;00m\u001B[38;5;21;01mmodel_selection\u001B[39;00m \u001B[38;5;28;01mimport\u001B[39;00m GridSearchCV\n\u001B[1;32m      3\u001B[0m \u001B[38;5;28;01mimport\u001B[39;00m \u001B[38;5;21;01mnumpy\u001B[39;00m \u001B[38;5;28;01mas\u001B[39;00m \u001B[38;5;21;01mnp\u001B[39;00m\n",
      "\u001B[0;31mModuleNotFoundError\u001B[0m: No module named 'sklearn'"
     ]
    }
   ],
   "source": [
    "from sklearn.neighbors import KNeighborsClassifier\n",
    "from sklearn.model_selection import GridSearchCV\n",
    "import numpy as np\n",
    "\n",
    "knn = KNeighborsClassifier()\n",
    "hyperparams = {'n_neighbors': np.arange(1,25)}\n",
    "knn_gscv = GridSearchCV(knn, hyperparams, cv=5)\n",
    "knn_gscv.fit(xtrain, ytrain)\n",
    "knn_prob = KNeighborsClassifier.predict_proba()"
   ],
   "metadata": {
    "collapsed": false
   }
  }
 ],
 "metadata": {
  "kernelspec": {
   "display_name": "Python 3",
   "language": "python",
   "name": "python3"
  },
  "language_info": {
   "codemirror_mode": {
    "name": "ipython",
    "version": 2
   },
   "file_extension": ".py",
   "mimetype": "text/x-python",
   "name": "python",
   "nbconvert_exporter": "python",
   "pygments_lexer": "ipython2",
   "version": "2.7.6"
  }
 },
 "nbformat": 4,
 "nbformat_minor": 0
}
